{
 "cells": [
  {
   "cell_type": "code",
   "execution_count": 6,
   "metadata": {},
   "outputs": [
    {
     "name": "stdout",
     "output_type": "stream",
     "text": [
      "['key1', 'NA', 'key2', 'key3']\n"
     ]
    }
   ],
   "source": [
    "import pandas as pd\n",
    "import numpy as np\n",
    "\n",
    "# 示例列表，包含NaN值\n",
    "node_Tester_Resource_key = ['key1', np.nan, 'key2', 'key3', 'key1', np.nan]\n",
    "\n",
    "# 将列表转换为pandas的Series\n",
    "node_Tester_Resource_key = pd.Series(node_Tester_Resource_key).fillna('NA').drop_duplicates().tolist()\n",
    "\n",
    "# # 去除NaN值并去除重复值\n",
    "# series = series.dropna().drop_duplicates()\n",
    "\n",
    "# # 将结果转换回列表\n",
    "# node_Tester_Resource_key = series.tolist()\n",
    "\n",
    "print(node_Tester_Resource_key)\n"
   ]
  },
  {
   "cell_type": "code",
   "execution_count": 11,
   "metadata": {},
   "outputs": [
    {
     "name": "stdout",
     "output_type": "stream",
     "text": [
      "['a', 'av', '4']\n",
      "['aqv', '6', '8']\n",
      "['9', '10', '12']\n"
     ]
    }
   ],
   "source": [
    "import numpy as np\n",
    "\n",
    "# 示例字典，包含一些列表，且列表长度相同\n",
    "dic = {\n",
    "    'key1': ['a', 'av', 'nan','4' ],\n",
    "    'key2': ['aqv', '6', '7', '8'],\n",
    "    'key3': ['9', '10', '11', '12'],\n",
    "}\n",
    "\n",
    "# 找到包含nan的索引\n",
    "nan_indices = set()\n",
    "\n",
    "for value in dic.values():\n",
    "    for index, item in enumerate(value):\n",
    "        if isinstance(item, str) and item == 'nan':\n",
    "            nan_indices.add(index)\n",
    "\n",
    "# 删除所有列表在nan_indices对应位置的元素\n",
    "for key in dic.keys():\n",
    "    for index in sorted(nan_indices, reverse=True):  # 反向排序以避免索引错误\n",
    "        del dic[key][index]\n",
    "\n",
    "# 此时 dic 中对应 nan 位置的元素已被删除\n",
    "print(dic['key1'])\n",
    "print(dic['key2'])    \n",
    "print(dic['key3'])\n"
   ]
  }
 ],
 "metadata": {
  "kernelspec": {
   "display_name": "Python 3",
   "language": "python",
   "name": "python3"
  },
  "language_info": {
   "codemirror_mode": {
    "name": "ipython",
    "version": 3
   },
   "file_extension": ".py",
   "mimetype": "text/x-python",
   "name": "python",
   "nbconvert_exporter": "python",
   "pygments_lexer": "ipython3",
   "version": "3.12.3"
  }
 },
 "nbformat": 4,
 "nbformat_minor": 2
}
